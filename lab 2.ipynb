{
  "nbformat": 4,
  "nbformat_minor": 0,
  "metadata": {
    "colab": {
      "provenance": [],
      "authorship_tag": "ABX9TyNeTuwrLoYfHRWzW9xb7jdJ",
      "include_colab_link": true
    },
    "kernelspec": {
      "name": "python3",
      "display_name": "Python 3"
    },
    "language_info": {
      "name": "python"
    }
  },
  "cells": [
    {
      "cell_type": "markdown",
      "metadata": {
        "id": "view-in-github",
        "colab_type": "text"
      },
      "source": [
        "<a href=\"https://colab.research.google.com/github/2303a510b9/aiml/blob/main/lab%202.ipynb\" target=\"_parent\"><img src=\"https://colab.research.google.com/assets/colab-badge.svg\" alt=\"Open In Colab\"/></a>"
      ]
    },
    {
      "cell_type": "markdown",
      "source": [
        "LAB-02:Implement AI Search\n",
        "\n",
        "Part 1:Breadth First Search Algorithm"
      ],
      "metadata": {
        "id": "5EpEYmD4PH8i"
      }
    },
    {
      "cell_type": "code",
      "execution_count": 1,
      "metadata": {
        "colab": {
          "base_uri": "https://localhost:8080/"
        },
        "id": "u0X44TklNcc1",
        "outputId": "1b984783-082b-43e9-a1b2-5324a58bc5f8"
      },
      "outputs": [
        {
          "output_type": "stream",
          "name": "stdout",
          "text": [
            "The adjacency List representing the graph is:\n",
            "{0: [1, 2, 3], 1: [0, 2], 2: [0, 1, 3, 5], 3: [0, 2, 4], 4: [3, 5, 7], 5: [4, 6, 7], 6: [5, 7], 7: [4, 5, 6], 8: []}\n",
            "BFS traversal of graph with source 0is:\n",
            "0-->1-->2-->3-->5-->4-->6-->7-->"
          ]
        }
      ],
      "source": [
        "import numpy as np\n",
        "from queue import Queue\n",
        "graph={0:[1,2,3],1:[0,2],2:[0,1,3,5],3:[0,2,4],4:[3,5,7],5:[4,6,7],6:[5,7],7:[4,5,6],8:[]}\n",
        "print(\"The adjacency List representing the graph is:\")\n",
        "print(graph)\n",
        "def bfs(graph,source):\n",
        "  Q=Queue()\n",
        "  visited_vertices=set()\n",
        "  Q.put(source)\n",
        "  visited_vertices.update({source})\n",
        "  while not Q.empty():\n",
        "     vertex=Q.get()\n",
        "     print(vertex,end=\"-->\")\n",
        "     for u in graph[vertex]:\n",
        "       if u not in visited_vertices:\n",
        "         Q.put(u)\n",
        "         visited_vertices.update({u})\n",
        "print(\"BFS traversal of graph with source 0is:\")\n",
        "bfs(graph,0)"
      ]
    },
    {
      "cell_type": "markdown",
      "source": [
        "Part 2: Implement Depth First Search Alogorithm"
      ],
      "metadata": {
        "id": "K6TMl92lPXVX"
      }
    },
    {
      "cell_type": "code",
      "source": [
        "graph1={\n",
        "      'A':['C','D','G'],\n",
        "      'B':['A'],\n",
        "      'C':['A','D','F'],\n",
        "      'D':['A','C','E','G','H'],\n",
        "      'E':['D','F','H'],\n",
        "      'F':['C','E'],\n",
        "      'G':['A','D','H'],\n",
        "      'H':['D','E','G'],\n",
        "\n",
        " }\n",
        "print(\"The adjacency List representing the graph is:\")\n",
        "print(graph1)\n",
        "def dfs(graph,node,visited):\n",
        "  if node not in visited:\n",
        "   visited.append(node)\n",
        "   for k in graph[node]:\n",
        "    dfs(graph,k,visited)\n",
        "  return visited\n",
        "visited=dfs(graph1,'B',[])\n",
        "print(visited)"
      ],
      "metadata": {
        "colab": {
          "base_uri": "https://localhost:8080/"
        },
        "id": "ZRQ2C4YaPPYF",
        "outputId": "ad335e72-48ed-44d7-d2e6-7655946e56b1"
      },
      "execution_count": 2,
      "outputs": [
        {
          "output_type": "stream",
          "name": "stdout",
          "text": [
            "The adjacency List representing the graph is:\n",
            "{'A': ['C', 'D', 'G'], 'B': ['A'], 'C': ['A', 'D', 'F'], 'D': ['A', 'C', 'E', 'G', 'H'], 'E': ['D', 'F', 'H'], 'F': ['C', 'E'], 'G': ['A', 'D', 'H'], 'H': ['D', 'E', 'G']}\n",
            "['B', 'A', 'C', 'D', 'E', 'F', 'H', 'G']\n"
          ]
        }
      ]
    },
    {
      "cell_type": "markdown",
      "source": [
        "Part 3:Implementation of A * Algorithm using numpy"
      ],
      "metadata": {
        "id": "eqt48sEIPjlQ"
      }
    },
    {
      "cell_type": "code",
      "source": [
        "from copy import deepcopy\n",
        "import numpy as np\n",
        "import time\n",
        "\n",
        "def bestsolution(state):\n",
        "  bestsol = np.array([], int).reshape(-1, 9)\n",
        "  count = len(state) - 1\n",
        "  while count != -1:\n",
        "      bestsol = np.insert(bestsol, 0, state[count]['puzzle'], 0)\n",
        "      count = (state[count]['parent'])\n",
        "  return bestsol.reshape(-1, 3, 3)\n",
        "# checks for the uniqueness of the iteration(it).\n",
        "def all(checkarray):\n",
        "  set_ = []  # Changed 'set' to 'set_' as 'set' is a built-in keyword\n",
        "  for it in set_:\n",
        "    for checkarray in it:\n",
        "      return 1\n",
        "    else:\n",
        "      return 0\n",
        "# number of misplaced tiles\n",
        "def misplaced_tiles(puzzle,goal):\n",
        "    mscost = np.sum(puzzle != goal) - 1\n",
        "    return mscost if mscost > 0 else 0\n",
        "def coordinates(puzzle):\n",
        "    pos = np.array(range(9))\n",
        "    for p, q in enumerate(puzzle):\n",
        "        pos[q] = p\n",
        "    return pos\n",
        "# start of 8 puzzle evaluvation, using Misplaced tiles heuristics\n",
        "def evaluvate_misplaced(puzzle, goal):\n",
        "  steps = np.array([('up', [0, 1, 2], -3),('down', [6, 7, 8],  3),\n",
        "   ('left', [0, 3, 6], -1),('right', [2, 5, 8],  1)],dtype =  [('move',  str, 1),('position', list),('head', int)])\n",
        "  dtstate = [('puzzle',  list),('parent', int),('gn',  int),('hn',  int)]\n",
        "  costg = coordinates(goal)\n",
        " # initializing the parent, gn and hn, where hn is misplaced_tiles  function call\n",
        "  parent = -1\n",
        "  gn=0\n",
        "  hn = misplaced_tiles(coordinates(puzzle), costg)\n",
        "  state = np.array([(puzzle, parent, gn, hn)], dtstate)\n",
        "  #priority queues with position as keys and fn as value.\n",
        "  dtpriority = [('position', int),('fn', int)]\n",
        "  priority = np.array([(0, hn)], dtpriority)\n",
        "  while 1:\n",
        "    priority = np.sort(priority, kind='mergesort', order=['fn', 'position'])\n",
        "    position, fn = priority[0]\n",
        "    # sort priority queue using merge sort,the first element is picked for exploring.\n",
        "    priority = np.delete(priority, 0, 0)\n",
        "    puzzle, parent, gn, hn = state[position]\n",
        "    puzzle = np.array(puzzle)\n",
        "    blank = int(np.where(puzzle == 0)[0])\n",
        "    gn = gn + 1\n",
        "    c = 1\n",
        "    start_time = time.time()\n",
        "    for s in steps:\n",
        "          c = c + 1\n",
        "          if blank not in s['position']:\n",
        "              openstates = deepcopy(puzzle)\n",
        "              openstates[blank], openstates[blank + s['head']] = openstates[blank + s['head']], openstates[blank]\n",
        "              if ~(np.all(list(state['puzzle']) == openstates , 1)).any():\n",
        "                  end_time = time.time()\n",
        "                  if (( end_time - start_time)>2):\n",
        "                     print(\" The 8 puzzle is unsolvable \\n\")\n",
        "                     return state, len(priority) # Added return for unsolvable case\n",
        "\n",
        "\n",
        "\n",
        "                  hn = misplaced_tiles(coordinates(openstates), costg)\n",
        "\n",
        "                  # generate and add new state in the list\n",
        "                  q = np.array([(openstates, position, gn, hn)], dtstate)\n",
        "                  state = np.append(state, q, 0)\n",
        "                  # f(n) is the sum of cost to reach node\n",
        "                  fn = gn + hn\n",
        "                  q = np.array([(len(state) - 1, fn)], dtpriority)\n",
        "                  priority = np.append(priority, q, 0)\n",
        "              # Check if goal state is reached\n",
        "              if np.array_equal(openstates, goal):\n",
        "                  print(' The 8 puzzle is solvable \\n')\n",
        "                  return state, len(priority)\n",
        "\n",
        "  return state,len(priority) #\n",
        "\n",
        "\n"
      ],
      "metadata": {
        "id": "9bVcdrAzPVdJ"
      },
      "execution_count": 7,
      "outputs": []
    }
  ]
}